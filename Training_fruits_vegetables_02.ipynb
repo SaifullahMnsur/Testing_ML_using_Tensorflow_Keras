{
  "cells": [
    {
      "cell_type": "markdown",
      "metadata": {
        "id": "view-in-github",
        "colab_type": "text"
      },
      "source": [
        "<a href=\"https://colab.research.google.com/github/SaifullahMnsur/Testing_ML_using_Tensorflow_Keras/blob/main/Training_fruits_vegetables_02.ipynb\" target=\"_parent\"><img src=\"https://colab.research.google.com/assets/colab-badge.svg\" alt=\"Open In Colab\"/></a>"
      ]
    },
    {
      "cell_type": "markdown",
      "metadata": {
        "id": "quL1YXAkjzeB"
      },
      "source": [
        "#Mount google drive"
      ]
    },
    {
      "cell_type": "code",
      "execution_count": 1,
      "metadata": {
        "colab": {
          "base_uri": "https://localhost:8080/"
        },
        "id": "V3u3FEp2WgHg",
        "outputId": "710b48b3-59a3-4bc8-995d-475267fc3a18"
      },
      "outputs": [
        {
          "output_type": "stream",
          "name": "stdout",
          "text": [
            "Drive already mounted at /content/drive; to attempt to forcibly remount, call drive.mount(\"/content/drive\", force_remount=True).\n"
          ]
        }
      ],
      "source": [
        "from google.colab import drive\n",
        "drive.mount('/content/drive')"
      ]
    },
    {
      "cell_type": "markdown",
      "metadata": {
        "id": "NNL9i3mjXCYS"
      },
      "source": [
        "#Importing libraries"
      ]
    },
    {
      "cell_type": "code",
      "execution_count": 2,
      "metadata": {
        "id": "qQ0CbfG1XExw"
      },
      "outputs": [],
      "source": [
        "import numpy as np\n",
        "import tensorflow as tf\n",
        "import matplotlib.pyplot as plt"
      ]
    },
    {
      "cell_type": "markdown",
      "metadata": {
        "id": "DLyfkS6vXWn_"
      },
      "source": [
        "#Data preprocessing"
      ]
    },
    {
      "cell_type": "markdown",
      "metadata": {
        "id": "DDjNnfJXXkcB"
      },
      "source": [
        "## Training image preprosessing\n"
      ]
    },
    {
      "cell_type": "code",
      "execution_count": 3,
      "metadata": {
        "colab": {
          "base_uri": "https://localhost:8080/"
        },
        "id": "mfQcHPxRXoVx",
        "outputId": "16877864-0883-448f-8c07-c7e651eb0a54"
      },
      "outputs": [
        {
          "output_type": "stream",
          "name": "stdout",
          "text": [
            "Found 3115 files belonging to 36 classes.\n"
          ]
        }
      ],
      "source": [
        "training_set = tf.keras.utils.image_dataset_from_directory(\n",
        "    '/content/drive/MyDrive/Computer Vision Research/Fruits_Vegetables_Recognition/train',\n",
        "    labels=\"inferred\",\n",
        "    label_mode=\"categorical\",\n",
        "    class_names=None,\n",
        "    color_mode=\"rgb\",\n",
        "    batch_size=32,\n",
        "    image_size=(64, 64),\n",
        "    shuffle=True,\n",
        "    seed=None,\n",
        "    validation_split=None,\n",
        "    subset=None,\n",
        "    interpolation=\"bilinear\",\n",
        "    follow_links=False,\n",
        "    crop_to_aspect_ratio=False\n",
        ")"
      ]
    },
    {
      "cell_type": "markdown",
      "metadata": {
        "id": "qtIpXGUXcFke"
      },
      "source": [
        "##Validation image preprocessing\n"
      ]
    },
    {
      "cell_type": "code",
      "execution_count": 4,
      "metadata": {
        "colab": {
          "base_uri": "https://localhost:8080/"
        },
        "id": "Q_Mnj3H_cJSH",
        "outputId": "527c77f5-fab4-44ca-b8b1-17c2bf832663"
      },
      "outputs": [
        {
          "output_type": "stream",
          "name": "stdout",
          "text": [
            "Found 351 files belonging to 36 classes.\n"
          ]
        }
      ],
      "source": [
        "validation_set = tf.keras.utils.image_dataset_from_directory(\n",
        "    '/content/drive/MyDrive/Computer Vision Research/Fruits_Vegetables_Recognition/validation',\n",
        "    labels=\"inferred\",\n",
        "    label_mode=\"categorical\",\n",
        "    class_names=None,\n",
        "    color_mode=\"rgb\",\n",
        "    batch_size=32,\n",
        "    image_size=(64, 64),\n",
        "    shuffle=True,\n",
        "    seed=None,\n",
        "    validation_split=None,\n",
        "    subset=None,\n",
        "    interpolation=\"bilinear\",\n",
        "    follow_links=False,\n",
        "    crop_to_aspect_ratio=False\n",
        ")\n",
        ""
      ]
    },
    {
      "cell_type": "markdown",
      "metadata": {
        "id": "RCJjcdp-c0W4"
      },
      "source": [
        "#Model building"
      ]
    },
    {
      "cell_type": "code",
      "execution_count": 34,
      "metadata": {
        "id": "sOa1AIRRe5iw"
      },
      "outputs": [],
      "source": [
        "cnn = tf.keras.models.Sequential()"
      ]
    },
    {
      "cell_type": "markdown",
      "metadata": {
        "id": "q10QQ0A4fkcJ"
      },
      "source": [
        "##Building convolution layer"
      ]
    },
    {
      "cell_type": "code",
      "execution_count": 35,
      "metadata": {
        "id": "D7T8_QEQfng5"
      },
      "outputs": [],
      "source": [
        "# cnn.add(tf.keras.layers.Conv2D(filters=64, kernel_size=3, activation='relu', input_shape=[64,64, 3]))\n",
        "# cnn.add(tf.keras.layers.MaxPool2D(pool_size=2, strides=2))\n",
        "\n",
        "\n",
        "cnn.add(tf.keras.layers.Conv2D(filters=32,kernel_size=3,padding='same',activation='relu',input_shape=[64,64,3]))\n",
        "cnn.add(tf.keras.layers.Conv2D(filters=32,kernel_size=3,activation='relu'))\n",
        "cnn.add(tf.keras.layers.MaxPool2D(pool_size=2,strides=2))"
      ]
    },
    {
      "cell_type": "code",
      "source": [
        "cnn.add(tf.keras.layers.Dropout(0.25))"
      ],
      "metadata": {
        "id": "XA0l8GWa3RrF"
      },
      "execution_count": 36,
      "outputs": []
    },
    {
      "cell_type": "code",
      "execution_count": 37,
      "metadata": {
        "id": "kFtyN5gigZqf"
      },
      "outputs": [],
      "source": [
        "# cnn.add(tf.keras.layers.Conv2D(filters=64, kernel_size=3, activation='relu'))\n",
        "# cnn.add(tf.keras.layers.MaxPool2D(pool_size=2, strides=2))\n",
        "\n",
        "cnn.add(tf.keras.layers.Conv2D(filters=64,kernel_size=3,padding='same',activation='relu'))\n",
        "cnn.add(tf.keras.layers.Conv2D(filters=64,kernel_size=3,activation='relu'))\n",
        "cnn.add(tf.keras.layers.MaxPool2D(pool_size=2,strides=2))"
      ]
    },
    {
      "cell_type": "code",
      "execution_count": 38,
      "metadata": {
        "id": "ppRZWHtEgpTS"
      },
      "outputs": [],
      "source": [
        "# cnn.add(tf.keras.layers.Dropout(0.5)) # to avoid overfitting\n",
        "\n",
        "cnn.add(tf.keras.layers.Dropout(0.25))"
      ]
    },
    {
      "cell_type": "code",
      "execution_count": 39,
      "metadata": {
        "id": "I8w028Ktg7N4"
      },
      "outputs": [],
      "source": [
        "cnn.add(tf.keras.layers.Flatten())"
      ]
    },
    {
      "cell_type": "code",
      "execution_count": 40,
      "metadata": {
        "id": "yrd0-nnChAKA"
      },
      "outputs": [],
      "source": [
        "# cnn.add(tf.keras.layers.Dense(units=256, activation='relu')) #number of neurons\n",
        "cnn.add(tf.keras.layers.Dense(units=512,activation='relu'))"
      ]
    },
    {
      "cell_type": "code",
      "source": [
        "cnn.add(tf.keras.layers.Dense(units=256,activation='relu'))"
      ],
      "metadata": {
        "id": "G9oK975v3-zt"
      },
      "execution_count": 41,
      "outputs": []
    },
    {
      "cell_type": "code",
      "execution_count": 42,
      "metadata": {
        "id": "LOU-PoShAKp8"
      },
      "outputs": [],
      "source": [
        "cnn.add(tf.keras.layers.Dropout(0.5)) # drop neuron to avoid overfitting"
      ]
    },
    {
      "cell_type": "code",
      "execution_count": 43,
      "metadata": {
        "id": "wbCCfOS6hRsW"
      },
      "outputs": [],
      "source": [
        "# cnn.add(tf.keras.layers.Dense(units=36, activation='softmax')) #output layer\n",
        "\n",
        "#Output Layer\n",
        "cnn.add(tf.keras.layers.Dense(units=36,activation='softmax'))"
      ]
    },
    {
      "cell_type": "markdown",
      "metadata": {
        "id": "eZnpiSPDhu8R"
      },
      "source": [
        "#Compiling and Training Phase"
      ]
    },
    {
      "cell_type": "code",
      "execution_count": 44,
      "metadata": {
        "id": "jfKnS5vOiEBX"
      },
      "outputs": [],
      "source": [
        "# cnn.compile( loss='categorical_crossentropy', optimizer='rmsprop', metrics=['accuracy'])\n",
        "cnn.compile(optimizer='adam',loss='categorical_crossentropy',metrics=['accuracy'])"
      ]
    },
    {
      "cell_type": "code",
      "execution_count": 45,
      "metadata": {
        "colab": {
          "base_uri": "https://localhost:8080/"
        },
        "id": "DIm8LGBA-6kh",
        "outputId": "1c6bb70f-159e-48a5-d043-e4fd6b2c9a59"
      },
      "outputs": [
        {
          "output_type": "stream",
          "name": "stdout",
          "text": [
            "Model: \"sequential_1\"\n",
            "_________________________________________________________________\n",
            " Layer (type)                Output Shape              Param #   \n",
            "=================================================================\n",
            " conv2d_4 (Conv2D)           (None, 64, 64, 32)        896       \n",
            "                                                                 \n",
            " conv2d_5 (Conv2D)           (None, 62, 62, 32)        9248      \n",
            "                                                                 \n",
            " max_pooling2d_3 (MaxPoolin  (None, 31, 31, 32)        0         \n",
            " g2D)                                                            \n",
            "                                                                 \n",
            " dropout_4 (Dropout)         (None, 31, 31, 32)        0         \n",
            "                                                                 \n",
            " conv2d_6 (Conv2D)           (None, 31, 31, 64)        18496     \n",
            "                                                                 \n",
            " conv2d_7 (Conv2D)           (None, 29, 29, 64)        36928     \n",
            "                                                                 \n",
            " max_pooling2d_4 (MaxPoolin  (None, 14, 14, 64)        0         \n",
            " g2D)                                                            \n",
            "                                                                 \n",
            " dropout_5 (Dropout)         (None, 14, 14, 64)        0         \n",
            "                                                                 \n",
            " flatten_1 (Flatten)         (None, 12544)             0         \n",
            "                                                                 \n",
            " dense_3 (Dense)             (None, 512)               6423040   \n",
            "                                                                 \n",
            " dense_4 (Dense)             (None, 256)               131328    \n",
            "                                                                 \n",
            " dropout_6 (Dropout)         (None, 256)               0         \n",
            "                                                                 \n",
            " dense_5 (Dense)             (None, 36)                9252      \n",
            "                                                                 \n",
            "=================================================================\n",
            "Total params: 6629188 (25.29 MB)\n",
            "Trainable params: 6629188 (25.29 MB)\n",
            "Non-trainable params: 0 (0.00 Byte)\n",
            "_________________________________________________________________\n"
          ]
        }
      ],
      "source": [
        "cnn.summary()"
      ]
    },
    {
      "cell_type": "code",
      "execution_count": 46,
      "metadata": {
        "colab": {
          "base_uri": "https://localhost:8080/"
        },
        "id": "spIH06g6ibJf",
        "outputId": "cd81dc97-d0f8-4b14-bd18-bfcb3ac65858"
      },
      "outputs": [
        {
          "output_type": "stream",
          "name": "stdout",
          "text": [
            "Epoch 1/32\n",
            "98/98 [==============================] - 166s 2s/step - loss: 6.0431 - accuracy: 0.0254 - val_loss: 3.5831 - val_accuracy: 0.0256\n",
            "Epoch 2/32\n",
            "98/98 [==============================] - 154s 1s/step - loss: 3.5817 - accuracy: 0.0321 - val_loss: 3.5817 - val_accuracy: 0.0370\n",
            "Epoch 3/32\n",
            "98/98 [==============================] - 156s 2s/step - loss: 3.5793 - accuracy: 0.0308 - val_loss: 3.5830 - val_accuracy: 0.0313\n",
            "Epoch 4/32\n",
            "98/98 [==============================] - 164s 2s/step - loss: 3.5782 - accuracy: 0.0315 - val_loss: 3.5794 - val_accuracy: 0.0313\n",
            "Epoch 5/32\n",
            "98/98 [==============================] - 160s 2s/step - loss: 3.5704 - accuracy: 0.0327 - val_loss: 3.5646 - val_accuracy: 0.0370\n",
            "Epoch 6/32\n",
            "98/98 [==============================] - 158s 2s/step - loss: 3.5622 - accuracy: 0.0369 - val_loss: 3.5657 - val_accuracy: 0.0427\n",
            "Epoch 7/32\n",
            "98/98 [==============================] - 165s 2s/step - loss: 3.5418 - accuracy: 0.0385 - val_loss: 3.5497 - val_accuracy: 0.0513\n",
            "Epoch 8/32\n",
            "98/98 [==============================] - 151s 1s/step - loss: 3.5256 - accuracy: 0.0543 - val_loss: 3.4808 - val_accuracy: 0.0826\n",
            "Epoch 9/32\n",
            "98/98 [==============================] - 157s 2s/step - loss: 3.4938 - accuracy: 0.0613 - val_loss: 3.4497 - val_accuracy: 0.0855\n",
            "Epoch 10/32\n",
            "98/98 [==============================] - 157s 2s/step - loss: 3.4277 - accuracy: 0.0915 - val_loss: 3.3387 - val_accuracy: 0.1225\n",
            "Epoch 11/32\n",
            "98/98 [==============================] - 156s 2s/step - loss: 3.3352 - accuracy: 0.1063 - val_loss: 3.2872 - val_accuracy: 0.1709\n",
            "Epoch 12/32\n",
            "98/98 [==============================] - 157s 2s/step - loss: 3.2651 - accuracy: 0.1239 - val_loss: 2.8822 - val_accuracy: 0.2906\n",
            "Epoch 13/32\n",
            "98/98 [==============================] - 155s 1s/step - loss: 3.1160 - accuracy: 0.1541 - val_loss: 2.7267 - val_accuracy: 0.3533\n",
            "Epoch 14/32\n",
            "98/98 [==============================] - 149s 1s/step - loss: 2.9501 - accuracy: 0.1920 - val_loss: 2.4468 - val_accuracy: 0.4074\n",
            "Epoch 15/32\n",
            "98/98 [==============================] - 155s 2s/step - loss: 2.8336 - accuracy: 0.2212 - val_loss: 2.1330 - val_accuracy: 0.4473\n",
            "Epoch 16/32\n",
            "98/98 [==============================] - 158s 2s/step - loss: 2.6107 - accuracy: 0.2713 - val_loss: 1.9723 - val_accuracy: 0.5299\n",
            "Epoch 17/32\n",
            "98/98 [==============================] - 162s 2s/step - loss: 2.4594 - accuracy: 0.3297 - val_loss: 1.7067 - val_accuracy: 0.5926\n",
            "Epoch 18/32\n",
            "98/98 [==============================] - 165s 2s/step - loss: 2.2123 - accuracy: 0.3833 - val_loss: 1.5468 - val_accuracy: 0.6553\n",
            "Epoch 19/32\n",
            "98/98 [==============================] - 164s 2s/step - loss: 1.9783 - accuracy: 0.4430 - val_loss: 1.2491 - val_accuracy: 0.7236\n",
            "Epoch 20/32\n",
            "98/98 [==============================] - 165s 2s/step - loss: 1.7957 - accuracy: 0.4986 - val_loss: 1.1080 - val_accuracy: 0.7350\n",
            "Epoch 21/32\n",
            "98/98 [==============================] - 167s 2s/step - loss: 1.6549 - accuracy: 0.5262 - val_loss: 1.0293 - val_accuracy: 0.7578\n",
            "Epoch 22/32\n",
            "98/98 [==============================] - 155s 2s/step - loss: 1.5073 - accuracy: 0.5862 - val_loss: 0.9942 - val_accuracy: 0.7863\n",
            "Epoch 23/32\n",
            "98/98 [==============================] - 158s 2s/step - loss: 1.3126 - accuracy: 0.6324 - val_loss: 0.8744 - val_accuracy: 0.8063\n",
            "Epoch 24/32\n",
            "98/98 [==============================] - 163s 2s/step - loss: 1.2649 - accuracy: 0.6562 - val_loss: 0.7675 - val_accuracy: 0.8376\n",
            "Epoch 25/32\n",
            "98/98 [==============================] - 157s 2s/step - loss: 1.1091 - accuracy: 0.6941 - val_loss: 0.6982 - val_accuracy: 0.8319\n",
            "Epoch 26/32\n",
            "98/98 [==============================] - 155s 1s/step - loss: 1.0052 - accuracy: 0.7233 - val_loss: 0.5918 - val_accuracy: 0.8547\n",
            "Epoch 27/32\n",
            "98/98 [==============================] - 155s 2s/step - loss: 0.9132 - accuracy: 0.7374 - val_loss: 0.6766 - val_accuracy: 0.8547\n",
            "Epoch 28/32\n",
            "98/98 [==============================] - 148s 1s/step - loss: 0.8312 - accuracy: 0.7583 - val_loss: 0.7155 - val_accuracy: 0.8832\n",
            "Epoch 29/32\n",
            "98/98 [==============================] - 157s 2s/step - loss: 0.7594 - accuracy: 0.7856 - val_loss: 0.6096 - val_accuracy: 0.8803\n",
            "Epoch 30/32\n",
            "98/98 [==============================] - 149s 1s/step - loss: 0.7142 - accuracy: 0.8064 - val_loss: 0.5109 - val_accuracy: 0.8946\n",
            "Epoch 31/32\n",
            "98/98 [==============================] - 163s 2s/step - loss: 0.6575 - accuracy: 0.8157 - val_loss: 0.6045 - val_accuracy: 0.9088\n",
            "Epoch 32/32\n",
            "98/98 [==============================] - 156s 2s/step - loss: 0.6429 - accuracy: 0.8305 - val_loss: 0.5070 - val_accuracy: 0.9060\n"
          ]
        }
      ],
      "source": [
        "# training_history = cnn.fit(x=training_set, validation_data = validation_set, epochs=10)\n",
        "training_history = cnn.fit(x=training_set,validation_data=validation_set,epochs=32)"
      ]
    },
    {
      "cell_type": "markdown",
      "source": [
        "#Evaluating Model"
      ],
      "metadata": {
        "id": "_IPJ7bxM4aS9"
      }
    },
    {
      "cell_type": "code",
      "source": [
        "#Training set Accuracy\n",
        "train_loss, train_acc = cnn.evaluate(training_set)\n",
        "print('Training accuracy:', train_acc)"
      ],
      "metadata": {
        "colab": {
          "base_uri": "https://localhost:8080/"
        },
        "id": "L1TqqjSe4cSE",
        "outputId": "c7f4ca0f-fe38-4641-981e-54ff58445f13"
      },
      "execution_count": 47,
      "outputs": [
        {
          "output_type": "stream",
          "name": "stdout",
          "text": [
            "98/98 [==============================] - 94s 877ms/step - loss: 0.2907 - accuracy: 0.9178\n",
            "Training accuracy: 0.9178169965744019\n"
          ]
        }
      ]
    },
    {
      "cell_type": "code",
      "source": [
        "#Validation set Accuracy\n",
        "val_loss, val_acc = cnn.evaluate(validation_set)\n",
        "print('Validation accuracy:', val_acc)"
      ],
      "metadata": {
        "colab": {
          "base_uri": "https://localhost:8080/"
        },
        "id": "o_e6B9li4fvs",
        "outputId": "e1d49b1c-8398-4a99-807e-72b6df8b9877"
      },
      "execution_count": 48,
      "outputs": [
        {
          "output_type": "stream",
          "name": "stdout",
          "text": [
            "11/11 [==============================] - 13s 258ms/step - loss: 0.5070 - accuracy: 0.9060\n",
            "Validation accuracy: 0.9059829115867615\n"
          ]
        }
      ]
    },
    {
      "cell_type": "markdown",
      "metadata": {
        "id": "2qHSyGCF2Jt0"
      },
      "source": [
        "##Saving Model"
      ]
    },
    {
      "cell_type": "code",
      "execution_count": 49,
      "metadata": {
        "id": "xRjsT-se2ND0",
        "colab": {
          "base_uri": "https://localhost:8080/"
        },
        "outputId": "db847f34-b105-448a-cd17-367c0b60bae9"
      },
      "outputs": [
        {
          "output_type": "stream",
          "name": "stderr",
          "text": [
            "/usr/local/lib/python3.10/dist-packages/keras/src/engine/training.py:3103: UserWarning: You are saving your model as an HDF5 file via `model.save()`. This file format is considered legacy. We recommend using instead the native Keras format, e.g. `model.save('my_model.keras')`.\n",
            "  saving_api.save_model(\n"
          ]
        }
      ],
      "source": [
        "cnn.save('trained_model.h5')"
      ]
    },
    {
      "cell_type": "code",
      "execution_count": 50,
      "metadata": {
        "colab": {
          "base_uri": "https://localhost:8080/"
        },
        "id": "hO1AJsApI2_d",
        "outputId": "7d382b46-28ec-4fec-848c-4cf81591bb3b"
      },
      "outputs": [
        {
          "output_type": "execute_result",
          "data": {
            "text/plain": [
              "{'loss': [6.04312801361084,\n",
              "  3.5817463397979736,\n",
              "  3.5792508125305176,\n",
              "  3.578181505203247,\n",
              "  3.5703790187835693,\n",
              "  3.562197208404541,\n",
              "  3.5417585372924805,\n",
              "  3.525606393814087,\n",
              "  3.4938466548919678,\n",
              "  3.4277243614196777,\n",
              "  3.335174322128296,\n",
              "  3.2651302814483643,\n",
              "  3.1159682273864746,\n",
              "  2.9501044750213623,\n",
              "  2.833589792251587,\n",
              "  2.610711097717285,\n",
              "  2.459418535232544,\n",
              "  2.21229887008667,\n",
              "  1.9783434867858887,\n",
              "  1.7956515550613403,\n",
              "  1.6549015045166016,\n",
              "  1.5073081254959106,\n",
              "  1.312591791152954,\n",
              "  1.26492178440094,\n",
              "  1.1091265678405762,\n",
              "  1.0052074193954468,\n",
              "  0.9131744503974915,\n",
              "  0.8312162756919861,\n",
              "  0.7594038248062134,\n",
              "  0.7142422199249268,\n",
              "  0.6574622392654419,\n",
              "  0.6429197788238525],\n",
              " 'accuracy': [0.025361156091094017,\n",
              "  0.03210273012518883,\n",
              "  0.030818618834018707,\n",
              "  0.03146067261695862,\n",
              "  0.03274478390812874,\n",
              "  0.03691813722252846,\n",
              "  0.03852327540516853,\n",
              "  0.05425361171364784,\n",
              "  0.06131621077656746,\n",
              "  0.09149277955293655,\n",
              "  0.1062600314617157,\n",
              "  0.12391653656959534,\n",
              "  0.15409310162067413,\n",
              "  0.19197431206703186,\n",
              "  0.2211878001689911,\n",
              "  0.2712680697441101,\n",
              "  0.3296950161457062,\n",
              "  0.3833065927028656,\n",
              "  0.4430176615715027,\n",
              "  0.49855539202690125,\n",
              "  0.5261636972427368,\n",
              "  0.5861958265304565,\n",
              "  0.6324237585067749,\n",
              "  0.6561797857284546,\n",
              "  0.6940609812736511,\n",
              "  0.7232744693756104,\n",
              "  0.737399697303772,\n",
              "  0.7582664489746094,\n",
              "  0.7855537533760071,\n",
              "  0.8064205646514893,\n",
              "  0.8157303333282471,\n",
              "  0.8304975628852844],\n",
              " 'val_loss': [3.583130121231079,\n",
              "  3.581714153289795,\n",
              "  3.5829622745513916,\n",
              "  3.5794296264648438,\n",
              "  3.5646495819091797,\n",
              "  3.565718412399292,\n",
              "  3.5497162342071533,\n",
              "  3.480835199356079,\n",
              "  3.4497413635253906,\n",
              "  3.3386852741241455,\n",
              "  3.287235975265503,\n",
              "  2.882223606109619,\n",
              "  2.7266695499420166,\n",
              "  2.4468438625335693,\n",
              "  2.1329829692840576,\n",
              "  1.9722943305969238,\n",
              "  1.7067385911941528,\n",
              "  1.5468246936798096,\n",
              "  1.2490826845169067,\n",
              "  1.1079685688018799,\n",
              "  1.029250144958496,\n",
              "  0.9941809773445129,\n",
              "  0.8743972778320312,\n",
              "  0.7675489783287048,\n",
              "  0.698203980922699,\n",
              "  0.5918044447898865,\n",
              "  0.6766372323036194,\n",
              "  0.7154936194419861,\n",
              "  0.6096353530883789,\n",
              "  0.5109053254127502,\n",
              "  0.6045414209365845,\n",
              "  0.5069906115531921],\n",
              " 'val_accuracy': [0.025641025975346565,\n",
              "  0.03703703731298447,\n",
              "  0.03133903071284294,\n",
              "  0.03133903071284294,\n",
              "  0.03703703731298447,\n",
              "  0.04273504391312599,\n",
              "  0.05128205195069313,\n",
              "  0.08262108266353607,\n",
              "  0.08547008782625198,\n",
              "  0.12250712513923645,\n",
              "  0.17094017565250397,\n",
              "  0.2905983030796051,\n",
              "  0.3532763421535492,\n",
              "  0.40740740299224854,\n",
              "  0.4472934603691101,\n",
              "  0.5299145579338074,\n",
              "  0.5925925970077515,\n",
              "  0.6552706360816956,\n",
              "  0.7236467003822327,\n",
              "  0.7350427508354187,\n",
              "  0.7578347325325012,\n",
              "  0.7863247990608215,\n",
              "  0.8062677979469299,\n",
              "  0.8376068472862244,\n",
              "  0.8319088220596313,\n",
              "  0.8547008633613586,\n",
              "  0.8547008633613586,\n",
              "  0.8831908702850342,\n",
              "  0.8803418874740601,\n",
              "  0.8945869207382202,\n",
              "  0.9088318943977356,\n",
              "  0.9059829115867615]}"
            ]
          },
          "metadata": {},
          "execution_count": 50
        }
      ],
      "source": [
        "training_history.history # returns dictionary of history"
      ]
    },
    {
      "cell_type": "markdown",
      "source": [
        "##Record History"
      ],
      "metadata": {
        "id": "Uy9z16h54pWd"
      }
    },
    {
      "cell_type": "code",
      "execution_count": 51,
      "metadata": {
        "id": "DkT_ZRnUIjf1"
      },
      "outputs": [],
      "source": [
        "# import json\n",
        "# with open('training_history.json', 'w') as f:\n",
        "#   json.dump(training_history.history, f)\n",
        "\n",
        "#Recording History in json\n",
        "import json\n",
        "with open('training_hist.json','w') as f:\n",
        "  json.dump(training_history.history,f)"
      ]
    },
    {
      "cell_type": "code",
      "execution_count": 52,
      "metadata": {
        "colab": {
          "base_uri": "https://localhost:8080/"
        },
        "id": "-brSCiPdJk7W",
        "outputId": "ee019590-5337-4417-b4c7-880a6e2f2a7d"
      },
      "outputs": [
        {
          "output_type": "stream",
          "name": "stdout",
          "text": [
            "dict_keys(['loss', 'accuracy', 'val_loss', 'val_accuracy'])\n"
          ]
        }
      ],
      "source": [
        "print(training_history.history.keys())"
      ]
    },
    {
      "cell_type": "markdown",
      "source": [
        "#Calculate Validation Accuracy"
      ],
      "metadata": {
        "id": "E-93kSXA4xik"
      }
    },
    {
      "cell_type": "code",
      "execution_count": 53,
      "metadata": {
        "colab": {
          "base_uri": "https://localhost:8080/"
        },
        "id": "wRVoq93pJuGV",
        "outputId": "df479f38-e35a-4a70-ae91-dfdcd05fe43d"
      },
      "outputs": [
        {
          "output_type": "stream",
          "name": "stdout",
          "text": [
            "Validations set accuracy: 90.59829115867615%\n"
          ]
        }
      ],
      "source": [
        "##Calculating accurecy achieved on validation set\n",
        "print('Validations set accuracy: {}%'.format(training_history.history['val_accuracy'][-1]*100))"
      ]
    },
    {
      "cell_type": "markdown",
      "metadata": {
        "id": "TApFBEXYLntv"
      },
      "source": [
        "#Accuracry visualization"
      ]
    },
    {
      "cell_type": "markdown",
      "metadata": {
        "id": "0iIxHInbLtOe"
      },
      "source": [
        "##Training Visualization"
      ]
    },
    {
      "cell_type": "code",
      "execution_count": 54,
      "metadata": {
        "colab": {
          "base_uri": "https://localhost:8080/",
          "height": 472
        },
        "id": "FETmfrkeLw62",
        "outputId": "845be561-696a-42fe-defb-81f803cf3e5a"
      },
      "outputs": [
        {
          "output_type": "display_data",
          "data": {
            "text/plain": [
              "<Figure size 640x480 with 1 Axes>"
            ],
            "image/png": "[encoded data removed]"
          },
          "metadata": {}
        }
      ],
      "source": [
        "epochs = [i for i in range(1,33)]\n",
        "plt.plot(epochs,training_history.history['accuracy'],color='red')\n",
        "plt.xlabel('No. of Epochs')\n",
        "plt.ylabel('Traiining Accuracy')\n",
        "plt.title('Visualization of Training Accuracy Result')\n",
        "plt.show()"
      ]
    },
    {
      "cell_type": "markdown",
      "metadata": {
        "id": "1hDt40nsNOH9"
      },
      "source": [
        "##Validation accuracy"
      ]
    },
    {
      "cell_type": "code",
      "execution_count": 55,
      "metadata": {
        "colab": {
          "base_uri": "https://localhost:8080/",
          "height": 472
        },
        "id": "341QYuBBNN0k",
        "outputId": "b4de80cf-55c3-4a01-f650-b795e1b52f46"
      },
      "outputs": [
        {
          "output_type": "display_data",
          "data": {
            "text/plain": [
              "<Figure size 640x480 with 1 Axes>"
            ],
            "image/png": "[encoded data removed]"
          },
          "metadata": {}
        }
      ],
      "source": [
        "plt.plot(epochs,training_history.history['val_accuracy'],color='blue')\n",
        "plt.xlabel('No. of Epochs')\n",
        "plt.ylabel('Validation Accuracy')\n",
        "plt.title('Visualization of Validation Accuracy Result')\n",
        "plt.show()"
      ]
    },
    {
      "cell_type": "markdown",
      "source": [
        "#Test set evaluation"
      ],
      "metadata": {
        "id": "5qW72D865rHU"
      }
    },
    {
      "cell_type": "code",
      "source": [
        "test_set = tf.keras.utils.image_dataset_from_directory(\n",
        "    '/content/drive/MyDrive/Computer Vision Research/Fruits_Vegetables_Recognition/test',\n",
        "    labels=\"inferred\",\n",
        "    label_mode=\"categorical\",\n",
        "    class_names=None,\n",
        "    color_mode=\"rgb\",\n",
        "    batch_size=32,\n",
        "    image_size=(64, 64),\n",
        "    shuffle=True,\n",
        "    seed=None,\n",
        "    validation_split=None,\n",
        "    subset=None,\n",
        "    interpolation=\"bilinear\",\n",
        "    follow_links=False,\n",
        "    crop_to_aspect_ratio=False\n",
        ")"
      ],
      "metadata": {
        "colab": {
          "base_uri": "https://localhost:8080/"
        },
        "id": "LOOE98_e5yiP",
        "outputId": "e46f0f09-058f-46bc-a56c-d3ef2395b747"
      },
      "execution_count": 56,
      "outputs": [
        {
          "output_type": "stream",
          "name": "stdout",
          "text": [
            "Found 359 files belonging to 36 classes.\n"
          ]
        }
      ]
    },
    {
      "cell_type": "code",
      "source": [
        "test_loss,test_acc = cnn.evaluate(test_set)\n",
        "print('Test accuracy:', test_acc)"
      ],
      "metadata": {
        "colab": {
          "base_uri": "https://localhost:8080/"
        },
        "id": "EJM2GKgl55Ub",
        "outputId": "072bbad3-a903-4d96-9a17-6bae1e11d43b"
      },
      "execution_count": 57,
      "outputs": [
        {
          "output_type": "stream",
          "name": "stdout",
          "text": [
            "12/12 [==============================] - 21s 984ms/step - loss: 0.4957 - accuracy: 0.9081\n",
            "Test accuracy: 0.9080780148506165\n"
          ]
        }
      ]
    }
  ],
  "metadata": {
    "colab": {
      "provenance": [],
      "mount_file_id": "1S6-Xh_1BnGYyVceGGAmJkV8GBkyiKaso",
      "authorship_tag": "ABX9TyMfwxsj06iMjs1LEFbRgy/4",
      "include_colab_link": true
    },
    "kernelspec": {
      "display_name": "Python 3",
      "name": "python3"
    },
    "language_info": {
      "name": "python"
    }
  },
  "nbformat": 4,
  "nbformat_minor": 0
}