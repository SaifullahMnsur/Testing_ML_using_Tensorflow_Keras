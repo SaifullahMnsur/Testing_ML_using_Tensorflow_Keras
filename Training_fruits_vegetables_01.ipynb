{
  "cells": [
    {
      "cell_type": "markdown",
      "metadata": {
        "id": "view-in-github",
        "colab_type": "text"
      },
      "source": [
        "<a href=\"https://colab.research.google.com/github/SaifullahMnsur/Testing_ML_using_Tensorflow_Keras/blob/main/Training_fruits_vegetables_01.ipynb\" target=\"_parent\"><img src=\"https://colab.research.google.com/assets/colab-badge.svg\" alt=\"Open In Colab\"/></a>"
      ]
    },
    {
      "cell_type": "markdown",
      "metadata": {
        "id": "quL1YXAkjzeB"
      },
      "source": [
        "#Mount google drive"
      ]
    },
    {
      "cell_type": "code",
      "execution_count": 1,
      "metadata": {
        "colab": {
          "base_uri": "https://localhost:8080/"
        },
        "id": "V3u3FEp2WgHg",
        "outputId": "710b48b3-59a3-4bc8-995d-475267fc3a18"
      },
      "outputs": [
        {
          "output_type": "stream",
          "name": "stdout",
          "text": [
            "Drive already mounted at /content/drive; to attempt to forcibly remount, call drive.mount(\"/content/drive\", force_remount=True).\n"
          ]
        }
      ],
      "source": [
        "from google.colab import drive\n",
        "drive.mount('/content/drive')"
      ]
    },
    {
      "cell_type": "markdown",
      "metadata": {
        "id": "NNL9i3mjXCYS"
      },
      "source": [
        "#Importing libraries"
      ]
    },
    {
      "cell_type": "code",
      "execution_count": 2,
      "metadata": {
        "id": "qQ0CbfG1XExw"
      },
      "outputs": [],
      "source": [
        "import numpy as np\n",
        "import tensorflow as tf\n",
        "import matplotlib.pyplot as plt"
      ]
    },
    {
      "cell_type": "markdown",
      "metadata": {
        "id": "DLyfkS6vXWn_"
      },
      "source": [
        "#Data preprocessing"
      ]
    },
    {
      "cell_type": "markdown",
      "metadata": {
        "id": "DDjNnfJXXkcB"
      },
      "source": [
        "## Training image preprosessing\n"
      ]
    },
    {
      "cell_type": "code",
      "execution_count": 3,
      "metadata": {
        "colab": {
          "base_uri": "https://localhost:8080/"
        },
        "id": "mfQcHPxRXoVx",
        "outputId": "16877864-0883-448f-8c07-c7e651eb0a54"
      },
      "outputs": [
        {
          "output_type": "stream",
          "name": "stdout",
          "text": [
            "Found 3115 files belonging to 36 classes.\n"
          ]
        }
      ],
      "source": [
        "training_set = tf.keras.utils.image_dataset_from_directory(\n",
        "    '/content/drive/MyDrive/Computer Vision Research/Fruits_Vegetables_Recognition/train',\n",
        "    labels=\"inferred\",\n",
        "    label_mode=\"categorical\",\n",
        "    class_names=None,\n",
        "    color_mode=\"rgb\",\n",
        "    batch_size=32,\n",
        "    image_size=(64, 64),\n",
        "    shuffle=True,\n",
        "    seed=None,\n",
        "    validation_split=None,\n",
        "    subset=None,\n",
        "    interpolation=\"bilinear\",\n",
        "    follow_links=False,\n",
        "    crop_to_aspect_ratio=False\n",
        ")"
      ]
    },
    {
      "cell_type": "markdown",
      "metadata": {
        "id": "qtIpXGUXcFke"
      },
      "source": [
        "##Validation image preprocessing\n"
      ]
    },
    {
      "cell_type": "code",
      "execution_count": 4,
      "metadata": {
        "colab": {
          "base_uri": "https://localhost:8080/"
        },
        "id": "Q_Mnj3H_cJSH",
        "outputId": "527c77f5-fab4-44ca-b8b1-17c2bf832663"
      },
      "outputs": [
        {
          "output_type": "stream",
          "name": "stdout",
          "text": [
            "Found 351 files belonging to 36 classes.\n"
          ]
        }
      ],
      "source": [
        "validation_set = tf.keras.utils.image_dataset_from_directory(\n",
        "    '/content/drive/MyDrive/Computer Vision Research/Fruits_Vegetables_Recognition/validation',\n",
        "    labels=\"inferred\",\n",
        "    label_mode=\"categorical\",\n",
        "    class_names=None,\n",
        "    color_mode=\"rgb\",\n",
        "    batch_size=32,\n",
        "    image_size=(64, 64),\n",
        "    shuffle=True,\n",
        "    seed=None,\n",
        "    validation_split=None,\n",
        "    subset=None,\n",
        "    interpolation=\"bilinear\",\n",
        "    follow_links=False,\n",
        "    crop_to_aspect_ratio=False\n",
        ")\n",
        ""
      ]
    },
    {
      "cell_type": "markdown",
      "metadata": {
        "id": "RCJjcdp-c0W4"
      },
      "source": [
        "#Model building"
      ]
    },
    {
      "cell_type": "code",
      "execution_count": 5,
      "metadata": {
        "id": "sOa1AIRRe5iw"
      },
      "outputs": [],
      "source": [
        "cnn = tf.keras.models.Sequential()"
      ]
    },
    {
      "cell_type": "markdown",
      "metadata": {
        "id": "q10QQ0A4fkcJ"
      },
      "source": [
        "##Building convolution layer"
      ]
    },
    {
      "cell_type": "code",
      "execution_count": 8,
      "metadata": {
        "id": "D7T8_QEQfng5"
      },
      "outputs": [],
      "source": [
        "# cnn.add(tf.keras.layers.Conv2D(filters=64, kernel_size=3, activation='relu', input_shape=[64,64, 3]))\n",
        "# cnn.add(tf.keras.layers.MaxPool2D(pool_size=2, strides=2))\n",
        "\n",
        "\n",
        "cnn.add(tf.keras.layers.Conv2D(filters=32,kernel_size=3,padding='same',activation='relu',input_shape=[64,64,3]))\n",
        "# cnn.add(tf.keras.layers.Conv2D(filters=32,kernel_size=3,activation='relu'))\n",
        "cnn.add(tf.keras.layers.MaxPool2D(pool_size=2,strides=2))"
      ]
    },
    {
      "cell_type": "code",
      "source": [
        "cnn.add(tf.keras.layers.Dropout(0.25))"
      ],
      "metadata": {
        "id": "XA0l8GWa3RrF"
      },
      "execution_count": 9,
      "outputs": []
    },
    {
      "cell_type": "code",
      "execution_count": 10,
      "metadata": {
        "id": "kFtyN5gigZqf"
      },
      "outputs": [],
      "source": [
        "# cnn.add(tf.keras.layers.Conv2D(filters=64, kernel_size=3, activation='relu'))\n",
        "# cnn.add(tf.keras.layers.MaxPool2D(pool_size=2, strides=2))\n",
        "\n",
        "cnn.add(tf.keras.layers.Conv2D(filters=64,kernel_size=3,padding='same',activation='relu'))\n",
        "# cnn.add(tf.keras.layers.Conv2D(filters=64,kernel_size=3,activation='relu'))\n",
        "cnn.add(tf.keras.layers.MaxPool2D(pool_size=2,strides=2))"
      ]
    },
    {
      "cell_type": "code",
      "execution_count": 11,
      "metadata": {
        "id": "ppRZWHtEgpTS"
      },
      "outputs": [],
      "source": [
        "# cnn.add(tf.keras.layers.Dropout(0.5)) # to avoid overfitting\n",
        "\n",
        "cnn.add(tf.keras.layers.Dropout(0.25))"
      ]
    },
    {
      "cell_type": "code",
      "execution_count": 12,
      "metadata": {
        "id": "I8w028Ktg7N4"
      },
      "outputs": [],
      "source": [
        "cnn.add(tf.keras.layers.Flatten())"
      ]
    },
    {
      "cell_type": "code",
      "execution_count": 13,
      "metadata": {
        "id": "yrd0-nnChAKA"
      },
      "outputs": [],
      "source": [
        "# cnn.add(tf.keras.layers.Dense(units=256, activation='relu')) #number of neurons\n",
        "cnn.add(tf.keras.layers.Dense(units=512,activation='relu'))"
      ]
    },
    {
      "cell_type": "code",
      "source": [
        "cnn.add(tf.keras.layers.Dense(units=256,activation='relu'))"
      ],
      "metadata": {
        "id": "G9oK975v3-zt"
      },
      "execution_count": 14,
      "outputs": []
    },
    {
      "cell_type": "code",
      "execution_count": 15,
      "metadata": {
        "id": "LOU-PoShAKp8"
      },
      "outputs": [],
      "source": [
        "cnn.add(tf.keras.layers.Dropout(0.5)) # drop neuron to avoid overfitting"
      ]
    },
    {
      "cell_type": "code",
      "execution_count": 16,
      "metadata": {
        "id": "wbCCfOS6hRsW"
      },
      "outputs": [],
      "source": [
        "# cnn.add(tf.keras.layers.Dense(units=36, activation='softmax')) #output layer\n",
        "\n",
        "#Output Layer\n",
        "cnn.add(tf.keras.layers.Dense(units=36,activation='softmax'))"
      ]
    },
    {
      "cell_type": "markdown",
      "metadata": {
        "id": "eZnpiSPDhu8R"
      },
      "source": [
        "#Compiling and Training Phase"
      ]
    },
    {
      "cell_type": "code",
      "execution_count": 17,
      "metadata": {
        "id": "jfKnS5vOiEBX"
      },
      "outputs": [],
      "source": [
        "# cnn.compile( loss='categorical_crossentropy', optimizer='rmsprop', metrics=['accuracy'])\n",
        "cnn.compile(optimizer='adam',loss='categorical_crossentropy',metrics=['accuracy'])"
      ]
    },
    {
      "cell_type": "code",
      "execution_count": 19,
      "metadata": {
        "colab": {
          "base_uri": "https://localhost:8080/"
        },
        "id": "DIm8LGBA-6kh",
        "outputId": "d685d2b6-6040-405c-d18d-11d467d2d499"
      },
      "outputs": [
        {
          "output_type": "stream",
          "name": "stdout",
          "text": [
            "Model: \"sequential\"\n",
            "_________________________________________________________________\n",
            " Layer (type)                Output Shape              Param #   \n",
            "=================================================================\n",
            " conv2d (Conv2D)             (None, 64, 64, 32)        896       \n",
            "                                                                 \n",
            " max_pooling2d (MaxPooling2  (None, 32, 32, 32)        0         \n",
            " D)                                                              \n",
            "                                                                 \n",
            " dropout (Dropout)           (None, 32, 32, 32)        0         \n",
            "                                                                 \n",
            " conv2d_1 (Conv2D)           (None, 32, 32, 32)        9248      \n",
            "                                                                 \n",
            " max_pooling2d_1 (MaxPoolin  (None, 16, 16, 32)        0         \n",
            " g2D)                                                            \n",
            "                                                                 \n",
            " dropout_1 (Dropout)         (None, 16, 16, 32)        0         \n",
            "                                                                 \n",
            " conv2d_2 (Conv2D)           (None, 16, 16, 64)        18496     \n",
            "                                                                 \n",
            " max_pooling2d_2 (MaxPoolin  (None, 8, 8, 64)          0         \n",
            " g2D)                                                            \n",
            "                                                                 \n",
            " dropout_2 (Dropout)         (None, 8, 8, 64)          0         \n",
            "                                                                 \n",
            " flatten (Flatten)           (None, 4096)              0         \n",
            "                                                                 \n",
            " dense (Dense)               (None, 512)               2097664   \n",
            "                                                                 \n",
            " dense_1 (Dense)             (None, 256)               131328    \n",
            "                                                                 \n",
            " dropout_3 (Dropout)         (None, 256)               0         \n",
            "                                                                 \n",
            " dense_2 (Dense)             (None, 36)                9252      \n",
            "                                                                 \n",
            "=================================================================\n",
            "Total params: 2266884 (8.65 MB)\n",
            "Trainable params: 2266884 (8.65 MB)\n",
            "Non-trainable params: 0 (0.00 Byte)\n",
            "_________________________________________________________________\n"
          ]
        }
      ],
      "source": [
        "cnn.summary()"
      ]
    },
    {
      "cell_type": "code",
      "execution_count": 20,
      "metadata": {
        "colab": {
          "base_uri": "https://localhost:8080/"
        },
        "id": "spIH06g6ibJf",
        "outputId": "1b4adca2-39c1-47f3-ecb6-2dd4dd1a8e31"
      },
      "outputs": [
        {
          "output_type": "stream",
          "name": "stdout",
          "text": [
            "Epoch 1/32\n",
            "98/98 [==============================] - 569s 5s/step - loss: 10.2379 - accuracy: 0.0308 - val_loss: 3.5862 - val_accuracy: 0.0285\n",
            "Epoch 2/32\n",
            "98/98 [==============================] - 125s 1s/step - loss: 3.5867 - accuracy: 0.0244 - val_loss: 3.5792 - val_accuracy: 0.0370\n",
            "Epoch 3/32\n",
            "98/98 [==============================] - 116s 1s/step - loss: 3.5620 - accuracy: 0.0437 - val_loss: 3.4994 - val_accuracy: 0.0883\n",
            "Epoch 4/32\n",
            "98/98 [==============================] - 116s 1s/step - loss: 3.5002 - accuracy: 0.0520 - val_loss: 3.4213 - val_accuracy: 0.0826\n",
            "Epoch 5/32\n",
            "98/98 [==============================] - 114s 1s/step - loss: 3.3968 - accuracy: 0.0655 - val_loss: 3.3396 - val_accuracy: 0.1396\n",
            "Epoch 6/32\n",
            "98/98 [==============================] - 109s 1s/step - loss: 3.3222 - accuracy: 0.0770 - val_loss: 3.1639 - val_accuracy: 0.1396\n",
            "Epoch 7/32\n",
            "98/98 [==============================] - 122s 1s/step - loss: 3.2178 - accuracy: 0.0896 - val_loss: 2.9417 - val_accuracy: 0.1795\n",
            "Epoch 8/32\n",
            "98/98 [==============================] - 107s 1s/step - loss: 3.1366 - accuracy: 0.0966 - val_loss: 2.8707 - val_accuracy: 0.2222\n",
            "Epoch 9/32\n",
            "98/98 [==============================] - 114s 1s/step - loss: 3.0388 - accuracy: 0.1284 - val_loss: 2.6768 - val_accuracy: 0.2507\n",
            "Epoch 10/32\n",
            "98/98 [==============================] - 107s 1s/step - loss: 2.9628 - accuracy: 0.1297 - val_loss: 2.5378 - val_accuracy: 0.2764\n",
            "Epoch 11/32\n",
            "98/98 [==============================] - 109s 1s/step - loss: 2.8790 - accuracy: 0.1541 - val_loss: 2.5037 - val_accuracy: 0.2849\n",
            "Epoch 12/32\n",
            "98/98 [==============================] - 123s 1s/step - loss: 2.7812 - accuracy: 0.1782 - val_loss: 2.3590 - val_accuracy: 0.3618\n",
            "Epoch 13/32\n",
            "98/98 [==============================] - 108s 1s/step - loss: 2.7072 - accuracy: 0.1910 - val_loss: 2.3353 - val_accuracy: 0.3675\n",
            "Epoch 14/32\n",
            "98/98 [==============================] - 105s 996ms/step - loss: 2.6277 - accuracy: 0.2116 - val_loss: 2.2044 - val_accuracy: 0.3704\n",
            "Epoch 15/32\n",
            "98/98 [==============================] - 108s 1s/step - loss: 2.5572 - accuracy: 0.2305 - val_loss: 2.1448 - val_accuracy: 0.4786\n",
            "Epoch 16/32\n",
            "98/98 [==============================] - 115s 1s/step - loss: 2.5000 - accuracy: 0.2533 - val_loss: 2.0817 - val_accuracy: 0.4644\n",
            "Epoch 17/32\n",
            "98/98 [==============================] - 122s 1s/step - loss: 2.4158 - accuracy: 0.2726 - val_loss: 2.0082 - val_accuracy: 0.4872\n",
            "Epoch 18/32\n",
            "98/98 [==============================] - 110s 1s/step - loss: 2.3992 - accuracy: 0.2883 - val_loss: 1.8116 - val_accuracy: 0.5185\n",
            "Epoch 19/32\n",
            "98/98 [==============================] - 106s 1s/step - loss: 2.2739 - accuracy: 0.3175 - val_loss: 1.6675 - val_accuracy: 0.5840\n",
            "Epoch 20/32\n",
            "98/98 [==============================] - 108s 1s/step - loss: 2.2219 - accuracy: 0.3236 - val_loss: 1.7438 - val_accuracy: 0.5299\n",
            "Epoch 21/32\n",
            "98/98 [==============================] - 115s 1s/step - loss: 2.1823 - accuracy: 0.3448 - val_loss: 1.5035 - val_accuracy: 0.6125\n",
            "Epoch 22/32\n",
            "98/98 [==============================] - 114s 1s/step - loss: 2.0772 - accuracy: 0.3698 - val_loss: 1.5367 - val_accuracy: 0.6524\n",
            "Epoch 23/32\n",
            "98/98 [==============================] - 107s 1s/step - loss: 2.0500 - accuracy: 0.3801 - val_loss: 1.4080 - val_accuracy: 0.6524\n",
            "Epoch 24/32\n",
            "98/98 [==============================] - 117s 1s/step - loss: 1.9291 - accuracy: 0.4177 - val_loss: 1.2668 - val_accuracy: 0.7066\n",
            "Epoch 25/32\n",
            "98/98 [==============================] - 116s 1s/step - loss: 1.8836 - accuracy: 0.4231 - val_loss: 1.2723 - val_accuracy: 0.6667\n",
            "Epoch 26/32\n",
            "98/98 [==============================] - 118s 1s/step - loss: 1.8578 - accuracy: 0.4353 - val_loss: 1.1921 - val_accuracy: 0.7009\n",
            "Epoch 27/32\n",
            "98/98 [==============================] - 113s 1s/step - loss: 1.8425 - accuracy: 0.4395 - val_loss: 1.0725 - val_accuracy: 0.7464\n",
            "Epoch 28/32\n",
            "98/98 [==============================] - 116s 1s/step - loss: 1.7403 - accuracy: 0.4629 - val_loss: 0.9320 - val_accuracy: 0.7635\n",
            "Epoch 29/32\n",
            "98/98 [==============================] - 115s 1s/step - loss: 1.7053 - accuracy: 0.4722 - val_loss: 1.0404 - val_accuracy: 0.7350\n",
            "Epoch 30/32\n",
            "98/98 [==============================] - 105s 1s/step - loss: 1.6386 - accuracy: 0.5002 - val_loss: 0.9446 - val_accuracy: 0.7949\n",
            "Epoch 31/32\n",
            "98/98 [==============================] - 121s 1s/step - loss: 1.6316 - accuracy: 0.4992 - val_loss: 0.8490 - val_accuracy: 0.7806\n",
            "Epoch 32/32\n",
            "98/98 [==============================] - 116s 1s/step - loss: 1.5386 - accuracy: 0.5217 - val_loss: 0.8381 - val_accuracy: 0.8034\n"
          ]
        }
      ],
      "source": [
        "# training_history = cnn.fit(x=training_set, validation_data = validation_set, epochs=10)\n",
        "training_history = cnn.fit(x=training_set,validation_data=validation_set,epochs=32)"
      ]
    },
    {
      "cell_type": "markdown",
      "source": [
        "#Evaluating Model"
      ],
      "metadata": {
        "id": "_IPJ7bxM4aS9"
      }
    },
    {
      "cell_type": "code",
      "source": [
        "#Training set Accuracy\n",
        "train_loss, train_acc = cnn.evaluate(training_set)\n",
        "print('Training accuracy:', train_acc)"
      ],
      "metadata": {
        "colab": {
          "base_uri": "https://localhost:8080/"
        },
        "id": "L1TqqjSe4cSE",
        "outputId": "0a2e4bae-76b6-4837-868f-47fe5b295a09"
      },
      "execution_count": 22,
      "outputs": [
        {
          "output_type": "stream",
          "name": "stdout",
          "text": [
            "98/98 [==============================] - 80s 746ms/step - loss: 1.0722 - accuracy: 0.7114\n",
            "Training accuracy: 0.7113964557647705\n"
          ]
        }
      ]
    },
    {
      "cell_type": "code",
      "source": [
        "#Validation set Accuracy\n",
        "val_loss, val_acc = cnn.evaluate(validation_set)\n",
        "print('Validation accuracy:', val_acc)"
      ],
      "metadata": {
        "colab": {
          "base_uri": "https://localhost:8080/"
        },
        "id": "o_e6B9li4fvs",
        "outputId": "ebe24d5c-7cde-496d-c911-a64659a85d72"
      },
      "execution_count": 23,
      "outputs": [
        {
          "output_type": "stream",
          "name": "stdout",
          "text": [
            "11/11 [==============================] - 12s 177ms/step - loss: 0.8381 - accuracy: 0.8034\n",
            "Validation accuracy: 0.8034188151359558\n"
          ]
        }
      ]
    },
    {
      "cell_type": "markdown",
      "metadata": {
        "id": "2qHSyGCF2Jt0"
      },
      "source": [
        "##Saving Model"
      ]
    },
    {
      "cell_type": "code",
      "execution_count": 24,
      "metadata": {
        "id": "xRjsT-se2ND0",
        "colab": {
          "base_uri": "https://localhost:8080/"
        },
        "outputId": "e084b1e1-3304-4b2a-fe56-3372fd2c3827"
      },
      "outputs": [
        {
          "output_type": "stream",
          "name": "stderr",
          "text": [
            "/usr/local/lib/python3.10/dist-packages/keras/src/engine/training.py:3103: UserWarning: You are saving your model as an HDF5 file via `model.save()`. This file format is considered legacy. We recommend using instead the native Keras format, e.g. `model.save('my_model.keras')`.\n",
            "  saving_api.save_model(\n"
          ]
        }
      ],
      "source": [
        "cnn.save('trained_model.h5')"
      ]
    },
    {
      "cell_type": "code",
      "execution_count": 25,
      "metadata": {
        "colab": {
          "base_uri": "https://localhost:8080/"
        },
        "id": "hO1AJsApI2_d",
        "outputId": "b7da6736-27f7-47e6-aeae-e36b6f09d97a"
      },
      "outputs": [
        {
          "output_type": "execute_result",
          "data": {
            "text/plain": [
              "{'loss': [10.237875938415527,\n",
              "  3.58670711517334,\n",
              "  3.5619771480560303,\n",
              "  3.5001535415649414,\n",
              "  3.39684796333313,\n",
              "  3.3221797943115234,\n",
              "  3.2178304195404053,\n",
              "  3.136563539505005,\n",
              "  3.038760185241699,\n",
              "  2.9628446102142334,\n",
              "  2.8790335655212402,\n",
              "  2.781183958053589,\n",
              "  2.7072315216064453,\n",
              "  2.627715826034546,\n",
              "  2.5571649074554443,\n",
              "  2.5000085830688477,\n",
              "  2.415818214416504,\n",
              "  2.399214267730713,\n",
              "  2.273860454559326,\n",
              "  2.2218616008758545,\n",
              "  2.1822690963745117,\n",
              "  2.0771875381469727,\n",
              "  2.049959182739258,\n",
              "  1.929083228111267,\n",
              "  1.8836363554000854,\n",
              "  1.8577563762664795,\n",
              "  1.8425439596176147,\n",
              "  1.7403074502944946,\n",
              "  1.7052947282791138,\n",
              "  1.6386301517486572,\n",
              "  1.6315577030181885,\n",
              "  1.5385658740997314],\n",
              " 'accuracy': [0.030818618834018707,\n",
              "  0.024398073554039,\n",
              "  0.04365970939397812,\n",
              "  0.052006419748067856,\n",
              "  0.06548956781625748,\n",
              "  0.07704655081033707,\n",
              "  0.08956661075353622,\n",
              "  0.09662920981645584,\n",
              "  0.1284109205007553,\n",
              "  0.12969502806663513,\n",
              "  0.15409310162067413,\n",
              "  0.17817014455795288,\n",
              "  0.1910112351179123,\n",
              "  0.21155698597431183,\n",
              "  0.2304975986480713,\n",
              "  0.2532905340194702,\n",
              "  0.27255216240882874,\n",
              "  0.28828251361846924,\n",
              "  0.31749600172042847,\n",
              "  0.32359549403190613,\n",
              "  0.34478330612182617,\n",
              "  0.3698234260082245,\n",
              "  0.38009631633758545,\n",
              "  0.4176565110683441,\n",
              "  0.42311397194862366,\n",
              "  0.43531301617622375,\n",
              "  0.4394863545894623,\n",
              "  0.4629213511943817,\n",
              "  0.4722311496734619,\n",
              "  0.5001605153083801,\n",
              "  0.49919742345809937,\n",
              "  0.521669328212738],\n",
              " 'val_loss': [3.586195468902588,\n",
              "  3.579245090484619,\n",
              "  3.499403238296509,\n",
              "  3.421299695968628,\n",
              "  3.3395614624023438,\n",
              "  3.1638553142547607,\n",
              "  2.9417316913604736,\n",
              "  2.8706915378570557,\n",
              "  2.6767687797546387,\n",
              "  2.5378379821777344,\n",
              "  2.503720760345459,\n",
              "  2.359041690826416,\n",
              "  2.3353095054626465,\n",
              "  2.2043845653533936,\n",
              "  2.1447789669036865,\n",
              "  2.081725835800171,\n",
              "  2.008223295211792,\n",
              "  1.8116129636764526,\n",
              "  1.6674976348876953,\n",
              "  1.7437996864318848,\n",
              "  1.50351083278656,\n",
              "  1.536698341369629,\n",
              "  1.407997727394104,\n",
              "  1.2668445110321045,\n",
              "  1.2723283767700195,\n",
              "  1.1920950412750244,\n",
              "  1.0724694728851318,\n",
              "  0.9320173859596252,\n",
              "  1.040413737297058,\n",
              "  0.9445992708206177,\n",
              "  0.8490175604820251,\n",
              "  0.838125467300415],\n",
              " 'val_accuracy': [0.028490029275417328,\n",
              "  0.03703703731298447,\n",
              "  0.0883190855383873,\n",
              "  0.08262108266353607,\n",
              "  0.13960114121437073,\n",
              "  0.13960114121437073,\n",
              "  0.1794871836900711,\n",
              "  0.2222222238779068,\n",
              "  0.25071224570274353,\n",
              "  0.27635326981544495,\n",
              "  0.2849002778530121,\n",
              "  0.36182335019111633,\n",
              "  0.36752137541770935,\n",
              "  0.37037035822868347,\n",
              "  0.47863247990608215,\n",
              "  0.4643874764442444,\n",
              "  0.4871794879436493,\n",
              "  0.5185185074806213,\n",
              "  0.5840455889701843,\n",
              "  0.5299145579338074,\n",
              "  0.6125355958938599,\n",
              "  0.6524216532707214,\n",
              "  0.6524216532707214,\n",
              "  0.7065526843070984,\n",
              "  0.6666666865348816,\n",
              "  0.7008547186851501,\n",
              "  0.74643874168396,\n",
              "  0.7635327577590942,\n",
              "  0.7350427508354187,\n",
              "  0.7948718070983887,\n",
              "  0.7806267738342285,\n",
              "  0.8034188151359558]}"
            ]
          },
          "metadata": {},
          "execution_count": 25
        }
      ],
      "source": [
        "training_history.history # returns dictionary of history"
      ]
    },
    {
      "cell_type": "markdown",
      "source": [
        "##Record History"
      ],
      "metadata": {
        "id": "Uy9z16h54pWd"
      }
    },
    {
      "cell_type": "code",
      "execution_count": 26,
      "metadata": {
        "id": "DkT_ZRnUIjf1"
      },
      "outputs": [],
      "source": [
        "# import json\n",
        "# with open('training_history.json', 'w') as f:\n",
        "#   json.dump(training_history.history, f)\n",
        "\n",
        "#Recording History in json\n",
        "import json\n",
        "with open('training_hist.json','w') as f:\n",
        "  json.dump(training_history.history,f)"
      ]
    },
    {
      "cell_type": "code",
      "execution_count": 27,
      "metadata": {
        "colab": {
          "base_uri": "https://localhost:8080/"
        },
        "id": "-brSCiPdJk7W",
        "outputId": "8f281c37-b178-4618-d61e-312a385b07fc"
      },
      "outputs": [
        {
          "output_type": "stream",
          "name": "stdout",
          "text": [
            "dict_keys(['loss', 'accuracy', 'val_loss', 'val_accuracy'])\n"
          ]
        }
      ],
      "source": [
        "print(training_history.history.keys())"
      ]
    },
    {
      "cell_type": "markdown",
      "source": [
        "#Calculate Validation Accuracy"
      ],
      "metadata": {
        "id": "E-93kSXA4xik"
      }
    },
    {
      "cell_type": "code",
      "execution_count": 28,
      "metadata": {
        "colab": {
          "base_uri": "https://localhost:8080/"
        },
        "id": "wRVoq93pJuGV",
        "outputId": "0afab121-917a-418b-afe5-e9683db2f491"
      },
      "outputs": [
        {
          "output_type": "stream",
          "name": "stdout",
          "text": [
            "Validations set accuracy: 80.34188151359558%\n"
          ]
        }
      ],
      "source": [
        "##Calculating accurecy achieved on validation set\n",
        "print('Validations set accuracy: {}%'.format(training_history.history['val_accuracy'][-1]*100))"
      ]
    },
    {
      "cell_type": "markdown",
      "metadata": {
        "id": "TApFBEXYLntv"
      },
      "source": [
        "#Accuracry visualization"
      ]
    },
    {
      "cell_type": "markdown",
      "metadata": {
        "id": "0iIxHInbLtOe"
      },
      "source": [
        "##Training Visualization"
      ]
    },
    {
      "cell_type": "code",
      "execution_count": 29,
      "metadata": {
        "colab": {
          "base_uri": "https://localhost:8080/",
          "height": 472
        },
        "id": "FETmfrkeLw62",
        "outputId": "524a70ae-4c40-4a7e-a203-bdc20ba272e1"
      },
      "outputs": [
        {
          "output_type": "display_data",
          "data": {
            "text/plain": [
              "<Figure size 640x480 with 1 Axes>"
            ],
            "image/png": "[encoded data removed]"
          },
          "metadata": {}
        }
      ],
      "source": [
        "epochs = [i for i in range(1,33)]\n",
        "plt.plot(epochs,training_history.history['accuracy'],color='red')\n",
        "plt.xlabel('No. of Epochs')\n",
        "plt.ylabel('Traiining Accuracy')\n",
        "plt.title('Visualization of Training Accuracy Result')\n",
        "plt.show()"
      ]
    },
    {
      "cell_type": "markdown",
      "metadata": {
        "id": "1hDt40nsNOH9"
      },
      "source": [
        "##Validation accuracy"
      ]
    },
    {
      "cell_type": "code",
      "execution_count": 30,
      "metadata": {
        "colab": {
          "base_uri": "https://localhost:8080/",
          "height": 472
        },
        "id": "341QYuBBNN0k",
        "outputId": "175e88d2-e905-45f3-d1ae-1694db2f5b3e"
      },
      "outputs": [
        {
          "output_type": "display_data",
          "data": {
            "text/plain": [
              "<Figure size 640x480 with 1 Axes>"
            ],
            "image/png": "[encoded data removed]"
          },
          "metadata": {}
        }
      ],
      "source": [
        "plt.plot(epochs,training_history.history['val_accuracy'],color='blue')\n",
        "plt.xlabel('No. of Epochs')\n",
        "plt.ylabel('Validation Accuracy')\n",
        "plt.title('Visualization of Validation Accuracy Result')\n",
        "plt.show()"
      ]
    },
    {
      "cell_type": "markdown",
      "source": [
        "#Test set evaluation"
      ],
      "metadata": {
        "id": "5qW72D865rHU"
      }
    },
    {
      "cell_type": "code",
      "source": [
        "test_set = tf.keras.utils.image_dataset_from_directory(\n",
        "    '/content/drive/MyDrive/Computer Vision Research/Fruits_Vegetables_Recognition/test',\n",
        "    labels=\"inferred\",\n",
        "    label_mode=\"categorical\",\n",
        "    class_names=None,\n",
        "    color_mode=\"rgb\",\n",
        "    batch_size=32,\n",
        "    image_size=(64, 64),\n",
        "    shuffle=True,\n",
        "    seed=None,\n",
        "    validation_split=None,\n",
        "    subset=None,\n",
        "    interpolation=\"bilinear\",\n",
        "    follow_links=False,\n",
        "    crop_to_aspect_ratio=False\n",
        ")"
      ],
      "metadata": {
        "colab": {
          "base_uri": "https://localhost:8080/"
        },
        "id": "LOOE98_e5yiP",
        "outputId": "9eb3ebc0-966a-4327-ec04-c93fb3aa77fa"
      },
      "execution_count": 31,
      "outputs": [
        {
          "output_type": "stream",
          "name": "stdout",
          "text": [
            "Found 359 files belonging to 36 classes.\n"
          ]
        }
      ]
    },
    {
      "cell_type": "code",
      "source": [
        "test_loss,test_acc = cnn.evaluate(test_set)\n",
        "print('Test accuracy:', test_acc)"
      ],
      "metadata": {
        "colab": {
          "base_uri": "https://localhost:8080/"
        },
        "id": "EJM2GKgl55Ub",
        "outputId": "648050cc-1377-47e9-996f-d386fb7b7dbc"
      },
      "execution_count": 32,
      "outputs": [
        {
          "output_type": "stream",
          "name": "stdout",
          "text": [
            "12/12 [==============================] - 54s 988ms/step - loss: 0.8403 - accuracy: 0.7994\n",
            "Test accuracy: 0.7994428873062134\n"
          ]
        }
      ]
    }
  ],
  "metadata": {
    "colab": {
      "provenance": [],
      "mount_file_id": "1S6-Xh_1BnGYyVceGGAmJkV8GBkyiKaso",
      "authorship_tag": "ABX9TyP0/380r8lQmbH3kKh0T3y9",
      "include_colab_link": true
    },
    "kernelspec": {
      "display_name": "Python 3",
      "name": "python3"
    },
    "language_info": {
      "name": "python"
    }
  },
  "nbformat": 4,
  "nbformat_minor": 0
}